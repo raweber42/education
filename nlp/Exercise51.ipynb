{
 "cells": [
  {
   "cell_type": "markdown",
   "metadata": {},
   "source": [
    "# Text Rank from Scratch"
   ]
  },
  {
   "cell_type": "code",
   "execution_count": 2,
   "metadata": {},
   "outputs": [
    {
     "name": "stderr",
     "output_type": "stream",
     "text": [
      "[nltk_data] Downloading package punkt to /Users/ralfweber/nltk_data...\n",
      "[nltk_data]   Package punkt is already up-to-date!\n"
     ]
    },
    {
     "data": {
      "text/plain": [
       "True"
      ]
     },
     "execution_count": 2,
     "metadata": {},
     "output_type": "execute_result"
    }
   ],
   "source": [
    "import numpy as np\n",
    "import pandas as pd\n",
    "import nltk\n",
    "import re\n",
    "import contractions\n",
    "nltk.download('punkt') # one time execution"
   ]
  },
  {
   "cell_type": "code",
   "execution_count": 213,
   "metadata": {},
   "outputs": [
    {
     "data": {
      "application/javascript": "IPython.notebook.set_autosave_interval(120000)"
     },
     "metadata": {},
     "output_type": "display_data"
    },
    {
     "name": "stdout",
     "output_type": "stream",
     "text": [
      "Autosaving every 120 seconds\n"
     ]
    }
   ],
   "source": [
    "%autosave 120\n",
    "pd.set_option('display.max_colwidth',1000)"
   ]
  },
  {
   "cell_type": "markdown",
   "metadata": {},
   "source": [
    "# Load Glove Embeddings"
   ]
  },
  {
   "cell_type": "code",
   "execution_count": 214,
   "metadata": {},
   "outputs": [
    {
     "name": "stdout",
     "output_type": "stream",
     "text": [
      "Loading GloVe Model...\n",
      "Loaded 400000 words in GloVe model\n"
     ]
    }
   ],
   "source": [
    "import numpy as np\n",
    "\n",
    "def load_glove_vectors(fn):\n",
    "    print(\"Loading GloVe Model...\")\n",
    "    with open( fn,'r', encoding='utf8') as glove_vector_file:\n",
    "        model = {}\n",
    "        for line in glove_vector_file:\n",
    "            parts = line.split()\n",
    "            word = parts[0]\n",
    "            embedding = np.array([float(val) for val in parts[1:]])\n",
    "            model[word] = embedding\n",
    "        print(\"Loaded {} words in GloVe model\".format(len(model)))\n",
    "    return model\n",
    "\n",
    "glove_vectors = load_glove_vectors('data/glove.6B.50d.txt') # download this from: https://www.kaggle.com/datasets/watts2/glove6b50dtxt"
   ]
  },
  {
   "cell_type": "markdown",
   "metadata": {},
   "source": [
    "# Read Articles"
   ]
  },
  {
   "cell_type": "code",
   "execution_count": 3,
   "metadata": {},
   "outputs": [
    {
     "data": {
      "text/html": [
       "<div>\n",
       "<style scoped>\n",
       "    .dataframe tbody tr th:only-of-type {\n",
       "        vertical-align: middle;\n",
       "    }\n",
       "\n",
       "    .dataframe tbody tr th {\n",
       "        vertical-align: top;\n",
       "    }\n",
       "\n",
       "    .dataframe thead th {\n",
       "        text-align: right;\n",
       "    }\n",
       "</style>\n",
       "<table border=\"1\" class=\"dataframe\">\n",
       "  <thead>\n",
       "    <tr style=\"text-align: right;\">\n",
       "      <th></th>\n",
       "      <th>category</th>\n",
       "      <th>title</th>\n",
       "      <th>text</th>\n",
       "    </tr>\n",
       "  </thead>\n",
       "  <tbody>\n",
       "    <tr>\n",
       "      <th>0</th>\n",
       "      <td>ARTS &amp; CULTURE</td>\n",
       "      <td>Modeling Agencies Enabled Sexual Predators For...</td>\n",
       "      <td>In October 2017, Carolyn Kramer received a dis...</td>\n",
       "    </tr>\n",
       "    <tr>\n",
       "      <th>1</th>\n",
       "      <td>ARTS &amp; CULTURE</td>\n",
       "      <td>Actor Jeff Hiller Talks 'Bright Colors And Bol...</td>\n",
       "      <td>This week I talked with actor Jeff Hiller abou...</td>\n",
       "    </tr>\n",
       "    <tr>\n",
       "      <th>2</th>\n",
       "      <td>ARTS &amp; CULTURE</td>\n",
       "      <td>New Yorker Cover Puts Trump 'In The Hole' Afte...</td>\n",
       "      <td>The New Yorker is taking on President Donald T...</td>\n",
       "    </tr>\n",
       "    <tr>\n",
       "      <th>3</th>\n",
       "      <td>ARTS &amp; CULTURE</td>\n",
       "      <td>Man Surprises Girlfriend By Drawing Them In Di...</td>\n",
       "      <td>Kellen Hickey, a 26-year-old who lives in Huds...</td>\n",
       "    </tr>\n",
       "    <tr>\n",
       "      <th>4</th>\n",
       "      <td>ARTS &amp; CULTURE</td>\n",
       "      <td>This Artist Gives Renaissance-Style Sculptures...</td>\n",
       "      <td>There's something about combining the traditio...</td>\n",
       "    </tr>\n",
       "  </tbody>\n",
       "</table>\n",
       "</div>"
      ],
      "text/plain": [
       "         category                                              title  \\\n",
       "0  ARTS & CULTURE  Modeling Agencies Enabled Sexual Predators For...   \n",
       "1  ARTS & CULTURE  Actor Jeff Hiller Talks 'Bright Colors And Bol...   \n",
       "2  ARTS & CULTURE  New Yorker Cover Puts Trump 'In The Hole' Afte...   \n",
       "3  ARTS & CULTURE  Man Surprises Girlfriend By Drawing Them In Di...   \n",
       "4  ARTS & CULTURE  This Artist Gives Renaissance-Style Sculptures...   \n",
       "\n",
       "                                                text  \n",
       "0  In October 2017, Carolyn Kramer received a dis...  \n",
       "1  This week I talked with actor Jeff Hiller abou...  \n",
       "2  The New Yorker is taking on President Donald T...  \n",
       "3  Kellen Hickey, a 26-year-old who lives in Huds...  \n",
       "4  There's something about combining the traditio...  "
      ]
     },
     "execution_count": 3,
     "metadata": {},
     "output_type": "execute_result"
    }
   ],
   "source": [
    "articles = pd.read_csv(\"data/news-article-categories_new.csv\")\n",
    "articles.head()"
   ]
  },
  {
   "cell_type": "code",
   "execution_count": 273,
   "metadata": {},
   "outputs": [
    {
     "data": {
      "text/html": [
       "<div>\n",
       "<style scoped>\n",
       "    .dataframe tbody tr th:only-of-type {\n",
       "        vertical-align: middle;\n",
       "    }\n",
       "\n",
       "    .dataframe tbody tr th {\n",
       "        vertical-align: top;\n",
       "    }\n",
       "\n",
       "    .dataframe thead th {\n",
       "        text-align: right;\n",
       "    }\n",
       "</style>\n",
       "<table border=\"1\" class=\"dataframe\">\n",
       "  <thead>\n",
       "    <tr style=\"text-align: right;\">\n",
       "      <th></th>\n",
       "      <th>category</th>\n",
       "      <th>title</th>\n",
       "      <th>text</th>\n",
       "    </tr>\n",
       "  </thead>\n",
       "  <tbody>\n",
       "    <tr>\n",
       "      <th>0</th>\n",
       "      <td>ARTS &amp; CULTURE</td>\n",
       "      <td>Modeling Agencies Enabled Sexual Predators For Years, Former Agent Says</td>\n",
       "      <td>In October 2017, Carolyn Kramer received a disturbing phone call. The former modeling agent listened intently as a model she used to represent told her that a famous French photographer, who still shoots for top publications, raped her when she was 16. Shortly after meeting the man at a restaurant in 1983, the model said she blacked out after drinking one glass of champagne, then woke up in his bed the next morning with a sore and bruised vagina. The woman, who preferred to remain anonymous, confirmed this story with HuffPost, but did not want to name the photographer for fear of legal repercussions. “He was one of the photographers that agents and clients and young girls basically knew was lecherous,” Kramer said, claiming that she and other agents sent their models to him in the '80s anyway. “[But] what I didn't realize [at the time] is that he was raping girls.”  Kramer said she broke down crying after the woman relayed her story of assault. “In that moment I felt that I let dow...</td>\n",
       "    </tr>\n",
       "    <tr>\n",
       "      <th>1</th>\n",
       "      <td>ARTS &amp; CULTURE</td>\n",
       "      <td>Actor Jeff Hiller Talks 'Bright Colors And Bold Patterns' and More (AUDIO)</td>\n",
       "      <td>This week I talked with actor Jeff Hiller about the hit Off Broadway play Bright Colors And Bold Patterns that he'll be joining on January 17th with a new opening night scheduled for February 4th. Hiller (Nightcap, 30 Rock &amp; Broadway's Bloody Bloody Andrew Jackson) will step into the starring role of this devastatingly funny hit play directed by Michael Urie (Torch Song, Buyer &amp; Cellar, Ugly Betty) and written by Drew Droege the play's original star. Hiller will continue the play's triumphant Off Broadway run through February 25th at the SoHo Playhouse in NYC. Bright Colors And Bold Patterns is about Josh and Brennan who are about to get married in Palm Springs on a lovely Saturday afternoon. However, the night before becomes a drunken, drug-fueled riot because their friend Gerry arrives furious that their invitation says: “Please refrain from wearing bright colors or bold patterns.” The play is produced by Zach Laks in association with Riki Kane Larimer and features set design by ...</td>\n",
       "    </tr>\n",
       "    <tr>\n",
       "      <th>2</th>\n",
       "      <td>ARTS &amp; CULTURE</td>\n",
       "      <td>New Yorker Cover Puts Trump 'In The Hole' After 'Racist' Comment</td>\n",
       "      <td>The New Yorker is taking on President Donald Trump after he asked why the U.S. would welcome immigrants from “shithole” places like Haiti and African countries during a bipartisan Oval Office meeting on Thursday. “In the Hole,” by artist Anthony Russo, responds to the president's comment, which has been decried as racist by the United Nations, with a stark illustration for the magazine's cover in its Jan. 22 issue.  On a field of white, the president's yellowish sweep of hair is just visible from the depths of a black hole: On Thursday, Trump sparked widespread criticism after he reportedly questioned why the U.S. should restore protections for immigrants from Haiti and parts of Africa. “Why are we having all these people from shithole countries come here?” the president said, sources told The Washington Post. “We should have more people from places like Norway,” he added. The New York Times, NBC News, BuzzFeed and CNN confirmed reports of the comment. Sen. Dick Durbin (D-Ill.) wen...</td>\n",
       "    </tr>\n",
       "    <tr>\n",
       "      <th>3</th>\n",
       "      <td>ARTS &amp; CULTURE</td>\n",
       "      <td>Man Surprises Girlfriend By Drawing Them In Different Animation Styles</td>\n",
       "      <td>Kellen Hickey, a 26-year-old who lives in Hudson, Wisconsin, has gift giving down to a fine art. He drew himself and his girlfriend Lindsay Brinkman, 24, in 10 different animation styles and gave the illustrations to her on Christmas. Hickey told HuffPost that he got the idea a few months ago when he decided to draw the couple as “Futurama” and “Adventure Time” characters and Brinkman absolutely loved them. Her enthusiasm inspired him to draw the two of them in the style of all the cartoons they had bonded over since they began dating in high school. “I am fortunate enough to have the ability to create something that can represent us and our enjoyment of each one of those shows relatively faithfully,” Hickey told HuffPost. “But I have to admit, the “Dragon Ball Z-style drawing was kind of for me.” Hickey says that Brinkman's response to the gift on Christmas was “everything I could've hoped for.” “As soon as she finished [looking through the drawings she] jump-hugged me and was sur...</td>\n",
       "    </tr>\n",
       "    <tr>\n",
       "      <th>4</th>\n",
       "      <td>ARTS &amp; CULTURE</td>\n",
       "      <td>This Artist Gives Renaissance-Style Sculptures A Goofy Modern Twist</td>\n",
       "      <td>There's something about combining the traditional, uptight look of the Renaissance period with modern-day behavior that excites Barcelona-based artist Gerard Mas. His resulting creations mix the ancient art of sculpting with satirical elements of contemporary pop art. “I thought about the millions of attitudes and situations that old artworks couldn't capture, because they were simply inappropriate for a lady in the 15th century,” Mas told Vice. Mas added that “inappropriate” behavior himself. Check out some of the examples below, and visit Mas' site to see more of his inventive artwork. A post shared by Gerard Mas (@gerard_mas) on Feb 7, 2017 at 9:20am PST A post shared by Gerard Mas (@gerard_mas) on Jul 28, 2017 at 3:03pm PDT A post shared by Gerard Mas (@gerard_mas) on Apr 28, 2017 at 6:45am PDT A post shared by Gerard Mas (@gerard_mas) on Apr 23, 2017 at 10:40am PDT A post shared by Gerard Mas (@gerard_mas) on Mar 2, 2017 at 2:39am PST</td>\n",
       "    </tr>\n",
       "  </tbody>\n",
       "</table>\n",
       "</div>"
      ],
      "text/plain": [
       "         category  \\\n",
       "0  ARTS & CULTURE   \n",
       "1  ARTS & CULTURE   \n",
       "2  ARTS & CULTURE   \n",
       "3  ARTS & CULTURE   \n",
       "4  ARTS & CULTURE   \n",
       "\n",
       "                                                                        title  \\\n",
       "0     Modeling Agencies Enabled Sexual Predators For Years, Former Agent Says   \n",
       "1  Actor Jeff Hiller Talks 'Bright Colors And Bold Patterns' and More (AUDIO)   \n",
       "2            New Yorker Cover Puts Trump 'In The Hole' After 'Racist' Comment   \n",
       "3      Man Surprises Girlfriend By Drawing Them In Different Animation Styles   \n",
       "4         This Artist Gives Renaissance-Style Sculptures A Goofy Modern Twist   \n",
       "\n",
       "                                                                                                                                                                                                                                                                                                                                                                                                                                                                                                                                                                                                                                                                                                                                                                                                                                                                                                                                                                                                                                      text  \n",
       "0  In October 2017, Carolyn Kramer received a disturbing phone call. The former modeling agent listened intently as a model she used to represent told her that a famous French photographer, who still shoots for top publications, raped her when she was 16. Shortly after meeting the man at a restaurant in 1983, the model said she blacked out after drinking one glass of champagne, then woke up in his bed the next morning with a sore and bruised vagina. The woman, who preferred to remain anonymous, confirmed this story with HuffPost, but did not want to name the photographer for fear of legal repercussions. “He was one of the photographers that agents and clients and young girls basically knew was lecherous,” Kramer said, claiming that she and other agents sent their models to him in the '80s anyway. “[But] what I didn't realize [at the time] is that he was raping girls.”  Kramer said she broke down crying after the woman relayed her story of assault. “In that moment I felt that I let dow...  \n",
       "1  This week I talked with actor Jeff Hiller about the hit Off Broadway play Bright Colors And Bold Patterns that he'll be joining on January 17th with a new opening night scheduled for February 4th. Hiller (Nightcap, 30 Rock & Broadway's Bloody Bloody Andrew Jackson) will step into the starring role of this devastatingly funny hit play directed by Michael Urie (Torch Song, Buyer & Cellar, Ugly Betty) and written by Drew Droege the play's original star. Hiller will continue the play's triumphant Off Broadway run through February 25th at the SoHo Playhouse in NYC. Bright Colors And Bold Patterns is about Josh and Brennan who are about to get married in Palm Springs on a lovely Saturday afternoon. However, the night before becomes a drunken, drug-fueled riot because their friend Gerry arrives furious that their invitation says: “Please refrain from wearing bright colors or bold patterns.” The play is produced by Zach Laks in association with Riki Kane Larimer and features set design by ...  \n",
       "2  The New Yorker is taking on President Donald Trump after he asked why the U.S. would welcome immigrants from “shithole” places like Haiti and African countries during a bipartisan Oval Office meeting on Thursday. “In the Hole,” by artist Anthony Russo, responds to the president's comment, which has been decried as racist by the United Nations, with a stark illustration for the magazine's cover in its Jan. 22 issue.  On a field of white, the president's yellowish sweep of hair is just visible from the depths of a black hole: On Thursday, Trump sparked widespread criticism after he reportedly questioned why the U.S. should restore protections for immigrants from Haiti and parts of Africa. “Why are we having all these people from shithole countries come here?” the president said, sources told The Washington Post. “We should have more people from places like Norway,” he added. The New York Times, NBC News, BuzzFeed and CNN confirmed reports of the comment. Sen. Dick Durbin (D-Ill.) wen...  \n",
       "3  Kellen Hickey, a 26-year-old who lives in Hudson, Wisconsin, has gift giving down to a fine art. He drew himself and his girlfriend Lindsay Brinkman, 24, in 10 different animation styles and gave the illustrations to her on Christmas. Hickey told HuffPost that he got the idea a few months ago when he decided to draw the couple as “Futurama” and “Adventure Time” characters and Brinkman absolutely loved them. Her enthusiasm inspired him to draw the two of them in the style of all the cartoons they had bonded over since they began dating in high school. “I am fortunate enough to have the ability to create something that can represent us and our enjoyment of each one of those shows relatively faithfully,” Hickey told HuffPost. “But I have to admit, the “Dragon Ball Z-style drawing was kind of for me.” Hickey says that Brinkman's response to the gift on Christmas was “everything I could've hoped for.” “As soon as she finished [looking through the drawings she] jump-hugged me and was sur...  \n",
       "4                                                There's something about combining the traditional, uptight look of the Renaissance period with modern-day behavior that excites Barcelona-based artist Gerard Mas. His resulting creations mix the ancient art of sculpting with satirical elements of contemporary pop art. “I thought about the millions of attitudes and situations that old artworks couldn't capture, because they were simply inappropriate for a lady in the 15th century,” Mas told Vice. Mas added that “inappropriate” behavior himself. Check out some of the examples below, and visit Mas' site to see more of his inventive artwork. A post shared by Gerard Mas (@gerard_mas) on Feb 7, 2017 at 9:20am PST A post shared by Gerard Mas (@gerard_mas) on Jul 28, 2017 at 3:03pm PDT A post shared by Gerard Mas (@gerard_mas) on Apr 28, 2017 at 6:45am PDT A post shared by Gerard Mas (@gerard_mas) on Apr 23, 2017 at 10:40am PDT A post shared by Gerard Mas (@gerard_mas) on Mar 2, 2017 at 2:39am PST  "
      ]
     },
     "execution_count": 273,
     "metadata": {},
     "output_type": "execute_result"
    }
   ],
   "source": [
    "# Convert empty strings to NaN\n",
    "articles.replace('', np.nan, inplace=True)\n",
    "\n",
    "# Drop rows with NaN values\n",
    "articles.dropna(inplace=True)\n",
    "\n",
    "articles.head(10)"
   ]
  },
  {
   "cell_type": "code",
   "execution_count": 274,
   "metadata": {},
   "outputs": [
    {
     "name": "stderr",
     "output_type": "stream",
     "text": [
      "[nltk_data] Downloading package stopwords to\n",
      "[nltk_data]     /Users/ralfweber/nltk_data...\n",
      "[nltk_data]   Package stopwords is already up-to-date!\n"
     ]
    }
   ],
   "source": [
    "nltk.download('stopwords')\n",
    "from nltk.corpus import stopwords # in case of SSL error, see here: https://stackoverflow.com/a/42890688\n",
    "stop_words = stopwords.words('english')"
   ]
  },
  {
   "cell_type": "code",
   "execution_count": 275,
   "metadata": {},
   "outputs": [],
   "source": [
    "from nltk.tokenize import sent_tokenize, word_tokenize\n",
    "\n",
    "CLEAN_PATTERN = r'[^a-zA-z\\s]'\n",
    "\n",
    "def clean(word):\n",
    "    return re.sub(CLEAN_PATTERN, '', word)\n",
    "\n",
    "def clean_sentence(sentence):\n",
    "    sentence = [clean(word) for word in sentence]\n",
    "    return [word for word in sentence if word]\n",
    "\n",
    "def clean_sentences(sentences):\n",
    "    return [clean_sentence(sentence) for sentence in sentences]\n",
    "\n",
    "def make_lowercase(sentence):\n",
    "    return [word.lower() for word in sentence]\n",
    "\n",
    "def remove_stopwords(sentence):\n",
    "    words = [word for word in sentence if word not in stop_words]\n",
    "    return [word for word in words if len(word) > 0]\n",
    "\n",
    "def tokenize_words(sentences):\n",
    "    return [word_tokenize(sentence) \n",
    "              for sentence in sentences]\n",
    "\n",
    "def fix_contractions(sentences):\n",
    "    return [contractions.fix(sentence) for sentence in sentences]\n",
    "\n",
    "articles['SentencesInArticle'] = articles.text.apply(sent_tokenize)\n",
    "articles['WordsInSentences'] = articles.SentencesInArticle \\\n",
    "              .apply(fix_contractions)\\\n",
    "              .apply(make_lowercase)\\\n",
    "              .apply(tokenize_words)\\\n",
    "              .apply(remove_stopwords)\\\n",
    "              .apply(clean_sentences)"
   ]
  },
  {
   "cell_type": "code",
   "execution_count": 276,
   "metadata": {},
   "outputs": [
    {
     "data": {
      "text/html": [
       "<div>\n",
       "<style scoped>\n",
       "    .dataframe tbody tr th:only-of-type {\n",
       "        vertical-align: middle;\n",
       "    }\n",
       "\n",
       "    .dataframe tbody tr th {\n",
       "        vertical-align: top;\n",
       "    }\n",
       "\n",
       "    .dataframe thead th {\n",
       "        text-align: right;\n",
       "    }\n",
       "</style>\n",
       "<table border=\"1\" class=\"dataframe\">\n",
       "  <thead>\n",
       "    <tr style=\"text-align: right;\">\n",
       "      <th></th>\n",
       "      <th>SentencesInArticle</th>\n",
       "      <th>WordsInSentences</th>\n",
       "    </tr>\n",
       "  </thead>\n",
       "  <tbody>\n",
       "    <tr>\n",
       "      <th>0</th>\n",
       "      <td>[In October 2017, Carolyn Kramer received a disturbing phone call., The former modeling agent listened intently as a model she used to represent told her that a famous French photographer, who still shoots for top publications, raped her when she was 16., Shortly after meeting the man at a restaurant in 1983, the model said she blacked out after drinking one glass of champagne, then woke up in his bed the next morning with a sore and bruised vagina., The woman, who preferred to remain anonymous, confirmed this story with HuffPost, but did not want to name the photographer for fear of legal repercussions., “He was one of the photographers that agents and clients and young girls basically knew was lecherous,” Kramer said, claiming that she and other agents sent their models to him in the '80s anyway., “[But] what I didn't realize [at the time] is that he was raping girls.”  Kramer said she broke down crying after the woman relayed her story of assault., “In that moment I felt that I ...</td>\n",
       "      <td>[[in, october, carolyn, kramer, received, a, disturbing, phone, call], [the, former, modeling, agent, listened, intently, as, a, model, she, used, to, represent, told, her, that, a, famous, french, photographer, who, still, shoots, for, top, publications, raped, her, when, she, was], [shortly, after, meeting, the, man, at, a, restaurant, in, the, model, said, she, blacked, out, after, drinking, one, glass, of, champagne, then, woke, up, in, his, bed, the, next, morning, with, a, sore, and, bruised, vagina], [the, woman, who, preferred, to, remain, anonymous, confirmed, this, story, with, huffpost, but, did, not, want, to, name, the, photographer, for, fear, of, legal, repercussions], [he, was, one, of, the, photographers, that, agents, and, clients, and, young, girls, basically, knew, was, lecherous, kramer, said, claiming, that, she, and, other, agents, sent, their, models, to, him, in, the, s, anyway], [[, but, ], what, i, did, not, realize, [, at, the, time, ], is, that, he, was...</td>\n",
       "    </tr>\n",
       "    <tr>\n",
       "      <th>1</th>\n",
       "      <td>[This week I talked with actor Jeff Hiller about the hit Off Broadway play Bright Colors And Bold Patterns that he'll be joining on January 17th with a new opening night scheduled for February 4th., Hiller (Nightcap, 30 Rock &amp; Broadway's Bloody Bloody Andrew Jackson) will step into the starring role of this devastatingly funny hit play directed by Michael Urie (Torch Song, Buyer &amp; Cellar, Ugly Betty) and written by Drew Droege the play's original star., Hiller will continue the play's triumphant Off Broadway run through February 25th at the SoHo Playhouse in NYC., Bright Colors And Bold Patterns is about Josh and Brennan who are about to get married in Palm Springs on a lovely Saturday afternoon., However, the night before becomes a drunken, drug-fueled riot because their friend Gerry arrives furious that their invitation says: “Please refrain from wearing bright colors or bold patterns.” The play is produced by Zach Laks in association with Riki Kane Larimer and features set desig...</td>\n",
       "      <td>[[this, week, i, talked, with, actor, jeff, hiller, about, the, hit, off, broadway, play, bright, colors, and, bold, patterns, that, he, will, be, joining, on, january, th, with, a, new, opening, night, scheduled, for, february, th], [hiller, nightcap, rock, broadway, s, bloody, bloody, andrew, jackson, will, step, into, the, starring, role, of, this, devastatingly, funny, hit, play, directed, by, michael, urie, torch, song, buyer, cellar, ugly, betty, and, written, by, drew, droege, the, play, s, original, star], [hiller, will, continue, the, play, s, triumphant, off, broadway, run, through, february, th, at, the, soho, playhouse, in, nyc], [bright, colors, and, bold, patterns, is, about, josh, and, brennan, who, are, about, to, get, married, in, palm, springs, on, a, lovely, saturday, afternoon], [however, the, night, before, becomes, a, drunken, drugfueled, riot, because, their, friend, gerry, arrives, furious, that, their, invitation, says, please, refrain, from, wearing, brigh...</td>\n",
       "    </tr>\n",
       "  </tbody>\n",
       "</table>\n",
       "</div>"
      ],
      "text/plain": [
       "                                                                                                                                                                                                                                                                                                                                                                                                                                                                                                                                                                                                                                                                                                                                                                                                                                                                                                                                                                                                                        SentencesInArticle  \\\n",
       "0  [In October 2017, Carolyn Kramer received a disturbing phone call., The former modeling agent listened intently as a model she used to represent told her that a famous French photographer, who still shoots for top publications, raped her when she was 16., Shortly after meeting the man at a restaurant in 1983, the model said she blacked out after drinking one glass of champagne, then woke up in his bed the next morning with a sore and bruised vagina., The woman, who preferred to remain anonymous, confirmed this story with HuffPost, but did not want to name the photographer for fear of legal repercussions., “He was one of the photographers that agents and clients and young girls basically knew was lecherous,” Kramer said, claiming that she and other agents sent their models to him in the '80s anyway., “[But] what I didn't realize [at the time] is that he was raping girls.”  Kramer said she broke down crying after the woman relayed her story of assault., “In that moment I felt that I ...   \n",
       "1  [This week I talked with actor Jeff Hiller about the hit Off Broadway play Bright Colors And Bold Patterns that he'll be joining on January 17th with a new opening night scheduled for February 4th., Hiller (Nightcap, 30 Rock & Broadway's Bloody Bloody Andrew Jackson) will step into the starring role of this devastatingly funny hit play directed by Michael Urie (Torch Song, Buyer & Cellar, Ugly Betty) and written by Drew Droege the play's original star., Hiller will continue the play's triumphant Off Broadway run through February 25th at the SoHo Playhouse in NYC., Bright Colors And Bold Patterns is about Josh and Brennan who are about to get married in Palm Springs on a lovely Saturday afternoon., However, the night before becomes a drunken, drug-fueled riot because their friend Gerry arrives furious that their invitation says: “Please refrain from wearing bright colors or bold patterns.” The play is produced by Zach Laks in association with Riki Kane Larimer and features set desig...   \n",
       "\n",
       "                                                                                                                                                                                                                                                                                                                                                                                                                                                                                                                                                                                                                                                                                                                                                                                                                                                                                                                                                                                                                          WordsInSentences  \n",
       "0  [[in, october, carolyn, kramer, received, a, disturbing, phone, call], [the, former, modeling, agent, listened, intently, as, a, model, she, used, to, represent, told, her, that, a, famous, french, photographer, who, still, shoots, for, top, publications, raped, her, when, she, was], [shortly, after, meeting, the, man, at, a, restaurant, in, the, model, said, she, blacked, out, after, drinking, one, glass, of, champagne, then, woke, up, in, his, bed, the, next, morning, with, a, sore, and, bruised, vagina], [the, woman, who, preferred, to, remain, anonymous, confirmed, this, story, with, huffpost, but, did, not, want, to, name, the, photographer, for, fear, of, legal, repercussions], [he, was, one, of, the, photographers, that, agents, and, clients, and, young, girls, basically, knew, was, lecherous, kramer, said, claiming, that, she, and, other, agents, sent, their, models, to, him, in, the, s, anyway], [[, but, ], what, i, did, not, realize, [, at, the, time, ], is, that, he, was...  \n",
       "1  [[this, week, i, talked, with, actor, jeff, hiller, about, the, hit, off, broadway, play, bright, colors, and, bold, patterns, that, he, will, be, joining, on, january, th, with, a, new, opening, night, scheduled, for, february, th], [hiller, nightcap, rock, broadway, s, bloody, bloody, andrew, jackson, will, step, into, the, starring, role, of, this, devastatingly, funny, hit, play, directed, by, michael, urie, torch, song, buyer, cellar, ugly, betty, and, written, by, drew, droege, the, play, s, original, star], [hiller, will, continue, the, play, s, triumphant, off, broadway, run, through, february, th, at, the, soho, playhouse, in, nyc], [bright, colors, and, bold, patterns, is, about, josh, and, brennan, who, are, about, to, get, married, in, palm, springs, on, a, lovely, saturday, afternoon], [however, the, night, before, becomes, a, drunken, drugfueled, riot, because, their, friend, gerry, arrives, furious, that, their, invitation, says, please, refrain, from, wearing, brigh...  "
      ]
     },
     "execution_count": 276,
     "metadata": {},
     "output_type": "execute_result"
    }
   ],
   "source": [
    "articles = articles[['SentencesInArticle', 'WordsInSentences']]\n",
    "articles.head(2)"
   ]
  },
  {
   "cell_type": "markdown",
   "metadata": {},
   "source": [
    "## Vectorized Sentences"
   ]
  },
  {
   "cell_type": "code",
   "execution_count": 277,
   "metadata": {},
   "outputs": [
    {
     "data": {
      "text/html": [
       "<div>\n",
       "<style scoped>\n",
       "    .dataframe tbody tr th:only-of-type {\n",
       "        vertical-align: middle;\n",
       "    }\n",
       "\n",
       "    .dataframe tbody tr th {\n",
       "        vertical-align: top;\n",
       "    }\n",
       "\n",
       "    .dataframe thead th {\n",
       "        text-align: right;\n",
       "    }\n",
       "</style>\n",
       "<table border=\"1\" class=\"dataframe\">\n",
       "  <thead>\n",
       "    <tr style=\"text-align: right;\">\n",
       "      <th></th>\n",
       "      <th>SentencesInArticle</th>\n",
       "      <th>WordsInSentences</th>\n",
       "    </tr>\n",
       "  </thead>\n",
       "  <tbody>\n",
       "    <tr>\n",
       "      <th>0</th>\n",
       "      <td>[In October 2017, Carolyn Kramer received a disturbing phone call., The former modeling agent listened intently as a model she used to represent told her that a famous French photographer, who still shoots for top publications, raped her when she was 16., Shortly after meeting the man at a restaurant in 1983, the model said she blacked out after drinking one glass of champagne, then woke up in his bed the next morning with a sore and bruised vagina., The woman, who preferred to remain anonymous, confirmed this story with HuffPost, but did not want to name the photographer for fear of legal repercussions., “He was one of the photographers that agents and clients and young girls basically knew was lecherous,” Kramer said, claiming that she and other agents sent their models to him in the '80s anyway., “[But] what I didn't realize [at the time] is that he was raping girls.”  Kramer said she broke down crying after the woman relayed her story of assault., “In that moment I felt that I ...</td>\n",
       "      <td>[[in, october, carolyn, kramer, received, a, disturbing, phone, call], [the, former, modeling, agent, listened, intently, as, a, model, she, used, to, represent, told, her, that, a, famous, french, photographer, who, still, shoots, for, top, publications, raped, her, when, she, was], [shortly, after, meeting, the, man, at, a, restaurant, in, the, model, said, she, blacked, out, after, drinking, one, glass, of, champagne, then, woke, up, in, his, bed, the, next, morning, with, a, sore, and, bruised, vagina], [the, woman, who, preferred, to, remain, anonymous, confirmed, this, story, with, huffpost, but, did, not, want, to, name, the, photographer, for, fear, of, legal, repercussions], [he, was, one, of, the, photographers, that, agents, and, clients, and, young, girls, basically, knew, was, lecherous, kramer, said, claiming, that, she, and, other, agents, sent, their, models, to, him, in, the, s, anyway], [[, but, ], what, i, did, not, realize, [, at, the, time, ], is, that, he, was...</td>\n",
       "    </tr>\n",
       "    <tr>\n",
       "      <th>1</th>\n",
       "      <td>[This week I talked with actor Jeff Hiller about the hit Off Broadway play Bright Colors And Bold Patterns that he'll be joining on January 17th with a new opening night scheduled for February 4th., Hiller (Nightcap, 30 Rock &amp; Broadway's Bloody Bloody Andrew Jackson) will step into the starring role of this devastatingly funny hit play directed by Michael Urie (Torch Song, Buyer &amp; Cellar, Ugly Betty) and written by Drew Droege the play's original star., Hiller will continue the play's triumphant Off Broadway run through February 25th at the SoHo Playhouse in NYC., Bright Colors And Bold Patterns is about Josh and Brennan who are about to get married in Palm Springs on a lovely Saturday afternoon., However, the night before becomes a drunken, drug-fueled riot because their friend Gerry arrives furious that their invitation says: “Please refrain from wearing bright colors or bold patterns.” The play is produced by Zach Laks in association with Riki Kane Larimer and features set desig...</td>\n",
       "      <td>[[this, week, i, talked, with, actor, jeff, hiller, about, the, hit, off, broadway, play, bright, colors, and, bold, patterns, that, he, will, be, joining, on, january, th, with, a, new, opening, night, scheduled, for, february, th], [hiller, nightcap, rock, broadway, s, bloody, bloody, andrew, jackson, will, step, into, the, starring, role, of, this, devastatingly, funny, hit, play, directed, by, michael, urie, torch, song, buyer, cellar, ugly, betty, and, written, by, drew, droege, the, play, s, original, star], [hiller, will, continue, the, play, s, triumphant, off, broadway, run, through, february, th, at, the, soho, playhouse, in, nyc], [bright, colors, and, bold, patterns, is, about, josh, and, brennan, who, are, about, to, get, married, in, palm, springs, on, a, lovely, saturday, afternoon], [however, the, night, before, becomes, a, drunken, drugfueled, riot, because, their, friend, gerry, arrives, furious, that, their, invitation, says, please, refrain, from, wearing, brigh...</td>\n",
       "    </tr>\n",
       "  </tbody>\n",
       "</table>\n",
       "</div>"
      ],
      "text/plain": [
       "                                                                                                                                                                                                                                                                                                                                                                                                                                                                                                                                                                                                                                                                                                                                                                                                                                                                                                                                                                                                                        SentencesInArticle  \\\n",
       "0  [In October 2017, Carolyn Kramer received a disturbing phone call., The former modeling agent listened intently as a model she used to represent told her that a famous French photographer, who still shoots for top publications, raped her when she was 16., Shortly after meeting the man at a restaurant in 1983, the model said she blacked out after drinking one glass of champagne, then woke up in his bed the next morning with a sore and bruised vagina., The woman, who preferred to remain anonymous, confirmed this story with HuffPost, but did not want to name the photographer for fear of legal repercussions., “He was one of the photographers that agents and clients and young girls basically knew was lecherous,” Kramer said, claiming that she and other agents sent their models to him in the '80s anyway., “[But] what I didn't realize [at the time] is that he was raping girls.”  Kramer said she broke down crying after the woman relayed her story of assault., “In that moment I felt that I ...   \n",
       "1  [This week I talked with actor Jeff Hiller about the hit Off Broadway play Bright Colors And Bold Patterns that he'll be joining on January 17th with a new opening night scheduled for February 4th., Hiller (Nightcap, 30 Rock & Broadway's Bloody Bloody Andrew Jackson) will step into the starring role of this devastatingly funny hit play directed by Michael Urie (Torch Song, Buyer & Cellar, Ugly Betty) and written by Drew Droege the play's original star., Hiller will continue the play's triumphant Off Broadway run through February 25th at the SoHo Playhouse in NYC., Bright Colors And Bold Patterns is about Josh and Brennan who are about to get married in Palm Springs on a lovely Saturday afternoon., However, the night before becomes a drunken, drug-fueled riot because their friend Gerry arrives furious that their invitation says: “Please refrain from wearing bright colors or bold patterns.” The play is produced by Zach Laks in association with Riki Kane Larimer and features set desig...   \n",
       "\n",
       "                                                                                                                                                                                                                                                                                                                                                                                                                                                                                                                                                                                                                                                                                                                                                                                                                                                                                                                                                                                                                          WordsInSentences  \n",
       "0  [[in, october, carolyn, kramer, received, a, disturbing, phone, call], [the, former, modeling, agent, listened, intently, as, a, model, she, used, to, represent, told, her, that, a, famous, french, photographer, who, still, shoots, for, top, publications, raped, her, when, she, was], [shortly, after, meeting, the, man, at, a, restaurant, in, the, model, said, she, blacked, out, after, drinking, one, glass, of, champagne, then, woke, up, in, his, bed, the, next, morning, with, a, sore, and, bruised, vagina], [the, woman, who, preferred, to, remain, anonymous, confirmed, this, story, with, huffpost, but, did, not, want, to, name, the, photographer, for, fear, of, legal, repercussions], [he, was, one, of, the, photographers, that, agents, and, clients, and, young, girls, basically, knew, was, lecherous, kramer, said, claiming, that, she, and, other, agents, sent, their, models, to, him, in, the, s, anyway], [[, but, ], what, i, did, not, realize, [, at, the, time, ], is, that, he, was...  \n",
       "1  [[this, week, i, talked, with, actor, jeff, hiller, about, the, hit, off, broadway, play, bright, colors, and, bold, patterns, that, he, will, be, joining, on, january, th, with, a, new, opening, night, scheduled, for, february, th], [hiller, nightcap, rock, broadway, s, bloody, bloody, andrew, jackson, will, step, into, the, starring, role, of, this, devastatingly, funny, hit, play, directed, by, michael, urie, torch, song, buyer, cellar, ugly, betty, and, written, by, drew, droege, the, play, s, original, star], [hiller, will, continue, the, play, s, triumphant, off, broadway, run, through, february, th, at, the, soho, playhouse, in, nyc], [bright, colors, and, bold, patterns, is, about, josh, and, brennan, who, are, about, to, get, married, in, palm, springs, on, a, lovely, saturday, afternoon], [however, the, night, before, becomes, a, drunken, drugfueled, riot, because, their, friend, gerry, arrives, furious, that, their, invitation, says, please, refrain, from, wearing, brigh...  "
      ]
     },
     "execution_count": 277,
     "metadata": {},
     "output_type": "execute_result"
    }
   ],
   "source": [
    "articles.head(2)"
   ]
  },
  {
   "cell_type": "code",
   "execution_count": 278,
   "metadata": {},
   "outputs": [],
   "source": [
    "VECTOR_SIZE = 50\n",
    "EMPTY_VECTOR = np.zeros(VECTOR_SIZE)\n",
    "\n",
    "def sentence_vector(sentence):\n",
    "    return sum([glove_vectors.get(word, EMPTY_VECTOR) \n",
    "                  for word in sentence]) / (len(sentence) if len(sentence) != 0 else 1)\n",
    "\n",
    "def sentences_to_vectors(sentences):\n",
    "    return [sentence_vector(sentence) \n",
    "              for sentence in sentences]"
   ]
  },
  {
   "cell_type": "code",
   "execution_count": 279,
   "metadata": {},
   "outputs": [],
   "source": [
    "articles['SentenceVector'] = articles.WordsInSentences.apply(sentences_to_vectors)"
   ]
  },
  {
   "cell_type": "markdown",
   "metadata": {},
   "source": [
    "## Similarity Matrix"
   ]
  },
  {
   "cell_type": "code",
   "execution_count": 280,
   "metadata": {},
   "outputs": [],
   "source": [
    "from sklearn.metrics.pairwise import cosine_similarity\n",
    "\n",
    "def create_similarity_matrix(sentence_vectors):\n",
    "    sim_mat = np.zeros([len(sentence_vectors), len(sentence_vectors)])\n",
    "    for i in range(len(sentence_vectors)):\n",
    "        for j in range(len(sentence_vectors)):\n",
    "            element_i = sentence_vectors[i].reshape(1,VECTOR_SIZE)\n",
    "            element_j = sentence_vectors[j].reshape(1,VECTOR_SIZE)\n",
    "            sim_mat[i][j] = cosine_similarity(element_i,\n",
    "                                              element_j)[0,0]\n",
    "    return sim_mat"
   ]
  },
  {
   "cell_type": "code",
   "execution_count": 281,
   "metadata": {},
   "outputs": [],
   "source": [
    "articles['SimMatrix'] = \\\n",
    "     articles.SentenceVector.apply(create_similarity_matrix)"
   ]
  },
  {
   "cell_type": "code",
   "execution_count": 282,
   "metadata": {},
   "outputs": [],
   "source": [
    "import networkx as nx\n",
    "\n",
    "def compute_graph(sim_matrix):\n",
    "    nx_graph = nx.from_numpy_array(sim_matrix)\n",
    "    scores = nx.pagerank(nx_graph, max_iter=500)\n",
    "    return scores"
   ]
  },
  {
   "cell_type": "markdown",
   "metadata": {},
   "source": [
    "## Graph"
   ]
  },
  {
   "cell_type": "code",
   "execution_count": 283,
   "metadata": {},
   "outputs": [],
   "source": [
    "articles['Graph'] = articles.SimMatrix.apply(compute_graph)"
   ]
  },
  {
   "cell_type": "code",
   "execution_count": 284,
   "metadata": {},
   "outputs": [
    {
     "data": {
      "text/html": [
       "<div>\n",
       "<style scoped>\n",
       "    .dataframe tbody tr th:only-of-type {\n",
       "        vertical-align: middle;\n",
       "    }\n",
       "\n",
       "    .dataframe tbody tr th {\n",
       "        vertical-align: top;\n",
       "    }\n",
       "\n",
       "    .dataframe thead th {\n",
       "        text-align: right;\n",
       "    }\n",
       "</style>\n",
       "<table border=\"1\" class=\"dataframe\">\n",
       "  <thead>\n",
       "    <tr style=\"text-align: right;\">\n",
       "      <th></th>\n",
       "      <th>SentencesInArticle</th>\n",
       "      <th>WordsInSentences</th>\n",
       "      <th>SentenceVector</th>\n",
       "      <th>SimMatrix</th>\n",
       "      <th>Graph</th>\n",
       "    </tr>\n",
       "  </thead>\n",
       "  <tbody>\n",
       "    <tr>\n",
       "      <th>0</th>\n",
       "      <td>[In October 2017, Carolyn Kramer received a disturbing phone call., The former modeling agent listened intently as a model she used to represent told her that a famous French photographer, who still shoots for top publications, raped her when she was 16., Shortly after meeting the man at a restaurant in 1983, the model said she blacked out after drinking one glass of champagne, then woke up in his bed the next morning with a sore and bruised vagina., The woman, who preferred to remain anonymous, confirmed this story with HuffPost, but did not want to name the photographer for fear of legal repercussions., “He was one of the photographers that agents and clients and young girls basically knew was lecherous,” Kramer said, claiming that she and other agents sent their models to him in the '80s anyway., “[But] what I didn't realize [at the time] is that he was raping girls.”  Kramer said she broke down crying after the woman relayed her story of assault., “In that moment I felt that I ...</td>\n",
       "      <td>[[in, october, carolyn, kramer, received, a, disturbing, phone, call], [the, former, modeling, agent, listened, intently, as, a, model, she, used, to, represent, told, her, that, a, famous, french, photographer, who, still, shoots, for, top, publications, raped, her, when, she, was], [shortly, after, meeting, the, man, at, a, restaurant, in, the, model, said, she, blacked, out, after, drinking, one, glass, of, champagne, then, woke, up, in, his, bed, the, next, morning, with, a, sore, and, bruised, vagina], [the, woman, who, preferred, to, remain, anonymous, confirmed, this, story, with, huffpost, but, did, not, want, to, name, the, photographer, for, fear, of, legal, repercussions], [he, was, one, of, the, photographers, that, agents, and, clients, and, young, girls, basically, knew, was, lecherous, kramer, said, claiming, that, she, and, other, agents, sent, their, models, to, him, in, the, s, anyway], [[, but, ], what, i, did, not, realize, [, at, the, time, ], is, that, he, was...</td>\n",
       "      <td>[[0.12994258888888888, 0.266952, 0.057090877777777785, 0.16973233333333335, 0.24598523333333336, 0.21671600000000002, -0.5938655555555555, -0.11241122222222222, -0.08604877777777778, -0.13432900000000003, -0.2299411111111111, -0.06699044444444444, -0.12497687777777777, -0.208422, 0.6825866666666667, -0.12708311111111112, -0.5678577777777777, -0.2223727777777778, -0.3412744444444443, -0.05024255555555554, 0.31370433333333336, 0.32598333333333335, 0.19989677777777784, 0.0006989999999999805, 0.22038888888888888, -1.3321777777777777, -0.07470222222222221, -0.009619888888888897, -0.03724033333333334, -0.12524988888888888, 2.283092222222222, -0.19608666666666666, -0.16698711111111111, -0.45470555555555553, -0.03763433333333334, -0.23824755555555555, 0.22576733333333332, -0.081817, 0.16799266666666662, -0.19468892222222225, 0.13659666666666667, 0.4050569777777778, -0.1364191111111111, -0.13753902222222222, -0.02407033333333331, 0.04287244444444445, -0.04981133333333333, -0.045210222222222...</td>\n",
       "      <td>[[1.0, 0.9058512560063415, 0.8843496707451783, 0.9044396825560004, 0.8988321718054801, 0.9118362546085397, 0.8798485791769182, 0.8561647610416898, 0.8922867978408691, 0.9195244345062042, 0.8647582822942053, 0.9019217999865002, 0.8821819138830912, 0.8883468214736762, 0.903446173655496, 0.8610538948619471, 0.8323685255419793, 0.9184692075335579, 0.8646186964747499, 0.8617520812761341, 0.9035784175362052, 0.8879786632272613, 0.8790919472899136, 0.8923130844685031, 0.8917879919187983, 0.9043410005664844, 0.8909261284632819, 0.9198803445992786, 0.8127941370621818, 0.8798526056096261, 0.9211790143215365, 0.8475033768570281, 0.8814882556708566, 0.8917585223710943, 0.8433023611042434, 0.8806532905083848, 0.8977804624817841, 0.8800492567350834, 0.7897873521349946, 0.887256249481563, 0.8080899515979707, 0.8957596762721823, 0.8834975240559813, 0.8780143242478503, 0.8822785256674515, 0.8987170221126601, 0.8986077043151316, 0.8836841812334515, 0.8726649866490094, 0.9159641108169724, 0.883031481...</td>\n",
       "      <td>{0: 0.007499965113827218, 1: 0.007848991992369471, 2: 0.007710265068631085, 3: 0.007977821482387112, 4: 0.008022643292656683, 5: 0.00795266172621474, 6: 0.008003430026561547, 7: 0.007948321463932432, 8: 0.007871581056490698, 9: 0.007987559960965666, 10: 0.00791213755644311, 11: 0.007859987191032123, 12: 0.007894791370174547, 13: 0.008016131587551448, 14: 0.007836060687739429, 15: 0.007300579278734792, 16: 0.007799914119980353, 17: 0.007886179781586223, 18: 0.007779755450413676, 19: 0.00799158292136865, 20: 0.007876177090543255, 21: 0.007942884745650948, 22: 0.007857768059837417, 23: 0.007645524880383185, 24: 0.007673102288743785, 25: 0.008001469879077159, 26: 0.007824014713848193, 27: 0.007915146545753834, 28: 0.007281895101543402, 29: 0.007850624108504654, 30: 0.007757793202678299, 31: 0.007633290117866422, 32: 0.007731611342850765, 33: 0.007862038948528924, 34: 0.007783694824896865, 35: 0.00799918256445175, 36: 0.008071926945471495, 37: 0.007833985186125337, 38: 0.007001673997707...</td>\n",
       "    </tr>\n",
       "    <tr>\n",
       "      <th>1</th>\n",
       "      <td>[This week I talked with actor Jeff Hiller about the hit Off Broadway play Bright Colors And Bold Patterns that he'll be joining on January 17th with a new opening night scheduled for February 4th., Hiller (Nightcap, 30 Rock &amp; Broadway's Bloody Bloody Andrew Jackson) will step into the starring role of this devastatingly funny hit play directed by Michael Urie (Torch Song, Buyer &amp; Cellar, Ugly Betty) and written by Drew Droege the play's original star., Hiller will continue the play's triumphant Off Broadway run through February 25th at the SoHo Playhouse in NYC., Bright Colors And Bold Patterns is about Josh and Brennan who are about to get married in Palm Springs on a lovely Saturday afternoon., However, the night before becomes a drunken, drug-fueled riot because their friend Gerry arrives furious that their invitation says: “Please refrain from wearing bright colors or bold patterns.” The play is produced by Zach Laks in association with Riki Kane Larimer and features set desig...</td>\n",
       "      <td>[[this, week, i, talked, with, actor, jeff, hiller, about, the, hit, off, broadway, play, bright, colors, and, bold, patterns, that, he, will, be, joining, on, january, th, with, a, new, opening, night, scheduled, for, february, th], [hiller, nightcap, rock, broadway, s, bloody, bloody, andrew, jackson, will, step, into, the, starring, role, of, this, devastatingly, funny, hit, play, directed, by, michael, urie, torch, song, buyer, cellar, ugly, betty, and, written, by, drew, droege, the, play, s, original, star], [hiller, will, continue, the, play, s, triumphant, off, broadway, run, through, february, th, at, the, soho, playhouse, in, nyc], [bright, colors, and, bold, patterns, is, about, josh, and, brennan, who, are, about, to, get, married, in, palm, springs, on, a, lovely, saturday, afternoon], [however, the, night, before, becomes, a, drunken, drugfueled, riot, because, their, friend, gerry, arrives, furious, that, their, invitation, says, please, refrain, from, wearing, brigh...</td>\n",
       "      <td>[[0.13117222777777782, 0.23144138888888888, -0.1287111138888889, 0.03437691666666667, 0.3027779444444445, 0.07520951666666667, -0.6298203055555556, -0.08664849166666666, -0.3425940619444445, -0.012952511944444436, -0.1141852777777778, -0.025810388888888876, -0.4855429722222224, 0.1112621111111111, 0.5092534027777776, -0.02984646944444445, -0.11443600277777777, -0.14332183333333331, -0.6538476111111109, -0.35192540833333336, 0.10745547222222222, 0.17602088888888887, 0.22546630555555552, -0.0889035277777778, 0.05233747222222219, -1.2619665555555555, -0.1435575277777778, 0.11123408333333333, 0.14149594444444447, -0.2372131666666667, 2.9376252777777783, 0.22560636111111101, -0.21385508333333336, -0.17423727777777778, 0.09607059805555557, -0.09451566944444441, 0.22029619444444445, 0.1726943611111112, -0.08289519916666667, -0.16808319444444444, -0.19212292499999997, 0.21347952777777782, -0.24229428611111117, -0.15565537055555553, -0.09739619444444446, 0.11208230555555554, 0.0146069944444...</td>\n",
       "      <td>[[1.0, 0.9324861628384136, 0.9367111456925217, 0.9560263240583248, 0.9627867475644003, 0.7704801355546355, 0.9232394276039456, 0.9469488319611394, 0.951491496779297, 0.9361467603755695, 0.9729655326051657, 0.7258959327949656], [0.9324861628384136, 1.0000000000000002, 0.8859314965661098, 0.8940249196041686, 0.9328725998989945, 0.7945237574095703, 0.9129250979945881, 0.9046181536697357, 0.9030047092175392, 0.9139092787605767, 0.9222581869331343, 0.696386182459005], [0.9367111456925217, 0.8859314965661098, 0.9999999999999999, 0.8650322883665879, 0.8749387511008127, 0.7190649850284718, 0.8847273608954046, 0.8618984535716523, 0.9270679209325314, 0.880533539855204, 0.967397963108455, 0.6983965861039025], [0.9560263240583248, 0.8940249196041686, 0.8650322883665879, 1.0000000000000002, 0.9650748085661364, 0.7679650590157906, 0.9296240937030553, 0.9387671521294693, 0.9274091910325434, 0.8964219662735321, 0.9380011000126257, 0.7084261961712505], [0.9627867475644003, 0.9328725998989945, 0.874...</td>\n",
       "      <td>{0: 0.08668890462392848, 1: 0.08452519268250049, 2: 0.08323259845730821, 3: 0.0851511756483628, 4: 0.08619286411534786, 5: 0.07584561331989628, 6: 0.0844349826012531, 7: 0.0848228713794331, 8: 0.08633855412994083, 9: 0.0854562081171707, 10: 0.08605017300527504, 11: 0.07126086191958277}</td>\n",
       "    </tr>\n",
       "    <tr>\n",
       "      <th>2</th>\n",
       "      <td>[The New Yorker is taking on President Donald Trump after he asked why the U.S. would welcome immigrants from “shithole” places like Haiti and African countries during a bipartisan Oval Office meeting on Thursday., “In the Hole,” by artist Anthony Russo, responds to the president's comment, which has been decried as racist by the United Nations, with a stark illustration for the magazine's cover in its Jan. 22 issue., On a field of white, the president's yellowish sweep of hair is just visible from the depths of a black hole: On Thursday, Trump sparked widespread criticism after he reportedly questioned why the U.S. should restore protections for immigrants from Haiti and parts of Africa., “Why are we having all these people from shithole countries come here?” the president said, sources told The Washington Post., “We should have more people from places like Norway,” he added., The New York Times, NBC News, BuzzFeed and CNN confirmed reports of the comment., Sen. Dick Durbin (D-Ill...</td>\n",
       "      <td>[[the, new, yorker, is, taking, on, president, donald, trump, after, he, asked, why, the, yous, would, welcome, immigrants, from, shithole, places, like, haiti, and, african, countries, during, a, bipartisan, oval, office, meeting, on, thursday], [in, the, hole, by, artist, anthony, russo, responds, to, the, president, s, comment, which, has, been, decried, as, racist, by, the, united, nations, with, a, stark, illustration, for, the, magazine, s, cover, in, its, january, issue], [on, a, field, of, white, the, president, s, yellowish, sweep, of, hair, is, just, visible, from, the, depths, of, a, black, hole, on, thursday, trump, sparked, widespread, criticism, after, he, reportedly, questioned, why, the, yous, should, restore, protections, for, immigrants, from, haiti, and, parts, of, africa], [why, are, we, having, all, these, people, from, shithole, countries, come, here, the, president, said, sources, told, the, washington, post], [we, should, have, more, people, from, places, li...</td>\n",
       "      <td>[[0.25108350000000007, 0.2086736882352942, -0.21354023823529417, -0.030210273529411767, 0.27355308823529406, -0.07725427352941178, -0.5745962970588235, -0.1121810882352941, -0.1504966311764706, -0.23276979411764712, -0.1971740882352941, -0.027727676470588238, -0.2163196764705882, 0.03301882941176471, 0.40245752941176466, 0.13475149411764706, -0.04200514705882354, -0.14210700294117648, -0.22599458823529406, -0.20132082647058824, 0.17035154411764705, 0.3184201764705883, 0.10765961764705884, -0.13887385294117643, 0.04840141176470591, -1.5431582617647057, -0.029888058823529413, 0.08670799999999998, -0.1677002382352941, -0.045746550000000004, 2.717856764705882, 0.23960423529411762, -0.49072120588235296, -0.2563680294117647, -0.005924201176470589, -0.1760847117647059, 0.01741175294117649, 0.11170907352941176, -0.13541817647058824, -0.15134146176470584, -0.3134057352941175, 0.2685513823529412, 0.00084387058823527, -0.09726841470588235, -0.04315288235294117, 0.2319733235294118, -0.36487027...</td>\n",
       "      <td>[[1.0, 0.955739770211566, 0.9629850149447645, 0.9638642277946083, 0.9380635859165597, 0.8977410452482699, 0.9467138992483186, 0.903325572554888, 0.96261213444534, 0.9687800511055771, 0.9637733612760662, 0.9727745888504487, 0.9072813446621767], [0.955739770211566, 0.9999999999999999, 0.9620788955306453, 0.9318148641877576, 0.9000672045128574, 0.9267475949002182, 0.9395187840525789, 0.876728342170851, 0.9603666334091149, 0.9510292936958297, 0.932631204397332, 0.9589371888672684, 0.9652074345003053], [0.9629850149447645, 0.9620788955306453, 1.0, 0.9416231535541782, 0.9329893730723908, 0.8713766710257796, 0.9332257239980432, 0.8735171692050304, 0.9492183396755821, 0.9564597800725022, 0.9590264460502413, 0.9597783175528102, 0.9163775506893085], [0.9638642277946083, 0.9318148641877576, 0.9416231535541782, 0.9999999999999998, 0.97702892265442, 0.8975807144334593, 0.9124513435132035, 0.9423711503081325, 0.9339508896588817, 0.9479435083572926, 0.9550738204136382, 0.9471889590167926, 0.87875...</td>\n",
       "      <td>{0: 0.0782744969936561, 1: 0.07782899088339185, 2: 0.07759796055808424, 3: 0.07766037923532997, 4: 0.0763285302623519, 5: 0.07420541915589157, 6: 0.07705300696145134, 7: 0.07503686706050061, 8: 0.0774541243848467, 9: 0.07767997205331607, 10: 0.07724226716553567, 11: 0.07797974932025051, 12: 0.07565823596539346}</td>\n",
       "    </tr>\n",
       "  </tbody>\n",
       "</table>\n",
       "</div>"
      ],
      "text/plain": [
       "                                                                                                                                                                                                                                                                                                                                                                                                                                                                                                                                                                                                                                                                                                                                                                                                                                                                                                                                                                                                                        SentencesInArticle  \\\n",
       "0  [In October 2017, Carolyn Kramer received a disturbing phone call., The former modeling agent listened intently as a model she used to represent told her that a famous French photographer, who still shoots for top publications, raped her when she was 16., Shortly after meeting the man at a restaurant in 1983, the model said she blacked out after drinking one glass of champagne, then woke up in his bed the next morning with a sore and bruised vagina., The woman, who preferred to remain anonymous, confirmed this story with HuffPost, but did not want to name the photographer for fear of legal repercussions., “He was one of the photographers that agents and clients and young girls basically knew was lecherous,” Kramer said, claiming that she and other agents sent their models to him in the '80s anyway., “[But] what I didn't realize [at the time] is that he was raping girls.”  Kramer said she broke down crying after the woman relayed her story of assault., “In that moment I felt that I ...   \n",
       "1  [This week I talked with actor Jeff Hiller about the hit Off Broadway play Bright Colors And Bold Patterns that he'll be joining on January 17th with a new opening night scheduled for February 4th., Hiller (Nightcap, 30 Rock & Broadway's Bloody Bloody Andrew Jackson) will step into the starring role of this devastatingly funny hit play directed by Michael Urie (Torch Song, Buyer & Cellar, Ugly Betty) and written by Drew Droege the play's original star., Hiller will continue the play's triumphant Off Broadway run through February 25th at the SoHo Playhouse in NYC., Bright Colors And Bold Patterns is about Josh and Brennan who are about to get married in Palm Springs on a lovely Saturday afternoon., However, the night before becomes a drunken, drug-fueled riot because their friend Gerry arrives furious that their invitation says: “Please refrain from wearing bright colors or bold patterns.” The play is produced by Zach Laks in association with Riki Kane Larimer and features set desig...   \n",
       "2  [The New Yorker is taking on President Donald Trump after he asked why the U.S. would welcome immigrants from “shithole” places like Haiti and African countries during a bipartisan Oval Office meeting on Thursday., “In the Hole,” by artist Anthony Russo, responds to the president's comment, which has been decried as racist by the United Nations, with a stark illustration for the magazine's cover in its Jan. 22 issue., On a field of white, the president's yellowish sweep of hair is just visible from the depths of a black hole: On Thursday, Trump sparked widespread criticism after he reportedly questioned why the U.S. should restore protections for immigrants from Haiti and parts of Africa., “Why are we having all these people from shithole countries come here?” the president said, sources told The Washington Post., “We should have more people from places like Norway,” he added., The New York Times, NBC News, BuzzFeed and CNN confirmed reports of the comment., Sen. Dick Durbin (D-Ill...   \n",
       "\n",
       "                                                                                                                                                                                                                                                                                                                                                                                                                                                                                                                                                                                                                                                                                                                                                                                                                                                                                                                                                                                                                          WordsInSentences  \\\n",
       "0  [[in, october, carolyn, kramer, received, a, disturbing, phone, call], [the, former, modeling, agent, listened, intently, as, a, model, she, used, to, represent, told, her, that, a, famous, french, photographer, who, still, shoots, for, top, publications, raped, her, when, she, was], [shortly, after, meeting, the, man, at, a, restaurant, in, the, model, said, she, blacked, out, after, drinking, one, glass, of, champagne, then, woke, up, in, his, bed, the, next, morning, with, a, sore, and, bruised, vagina], [the, woman, who, preferred, to, remain, anonymous, confirmed, this, story, with, huffpost, but, did, not, want, to, name, the, photographer, for, fear, of, legal, repercussions], [he, was, one, of, the, photographers, that, agents, and, clients, and, young, girls, basically, knew, was, lecherous, kramer, said, claiming, that, she, and, other, agents, sent, their, models, to, him, in, the, s, anyway], [[, but, ], what, i, did, not, realize, [, at, the, time, ], is, that, he, was...   \n",
       "1  [[this, week, i, talked, with, actor, jeff, hiller, about, the, hit, off, broadway, play, bright, colors, and, bold, patterns, that, he, will, be, joining, on, january, th, with, a, new, opening, night, scheduled, for, february, th], [hiller, nightcap, rock, broadway, s, bloody, bloody, andrew, jackson, will, step, into, the, starring, role, of, this, devastatingly, funny, hit, play, directed, by, michael, urie, torch, song, buyer, cellar, ugly, betty, and, written, by, drew, droege, the, play, s, original, star], [hiller, will, continue, the, play, s, triumphant, off, broadway, run, through, february, th, at, the, soho, playhouse, in, nyc], [bright, colors, and, bold, patterns, is, about, josh, and, brennan, who, are, about, to, get, married, in, palm, springs, on, a, lovely, saturday, afternoon], [however, the, night, before, becomes, a, drunken, drugfueled, riot, because, their, friend, gerry, arrives, furious, that, their, invitation, says, please, refrain, from, wearing, brigh...   \n",
       "2  [[the, new, yorker, is, taking, on, president, donald, trump, after, he, asked, why, the, yous, would, welcome, immigrants, from, shithole, places, like, haiti, and, african, countries, during, a, bipartisan, oval, office, meeting, on, thursday], [in, the, hole, by, artist, anthony, russo, responds, to, the, president, s, comment, which, has, been, decried, as, racist, by, the, united, nations, with, a, stark, illustration, for, the, magazine, s, cover, in, its, january, issue], [on, a, field, of, white, the, president, s, yellowish, sweep, of, hair, is, just, visible, from, the, depths, of, a, black, hole, on, thursday, trump, sparked, widespread, criticism, after, he, reportedly, questioned, why, the, yous, should, restore, protections, for, immigrants, from, haiti, and, parts, of, africa], [why, are, we, having, all, these, people, from, shithole, countries, come, here, the, president, said, sources, told, the, washington, post], [we, should, have, more, people, from, places, li...   \n",
       "\n",
       "                                                                                                                                                                                                                                                                                                                                                                                                                                                                                                                                                                                                                                                                                                                                                                                                                                                                                                                                                                                                                            SentenceVector  \\\n",
       "0  [[0.12994258888888888, 0.266952, 0.057090877777777785, 0.16973233333333335, 0.24598523333333336, 0.21671600000000002, -0.5938655555555555, -0.11241122222222222, -0.08604877777777778, -0.13432900000000003, -0.2299411111111111, -0.06699044444444444, -0.12497687777777777, -0.208422, 0.6825866666666667, -0.12708311111111112, -0.5678577777777777, -0.2223727777777778, -0.3412744444444443, -0.05024255555555554, 0.31370433333333336, 0.32598333333333335, 0.19989677777777784, 0.0006989999999999805, 0.22038888888888888, -1.3321777777777777, -0.07470222222222221, -0.009619888888888897, -0.03724033333333334, -0.12524988888888888, 2.283092222222222, -0.19608666666666666, -0.16698711111111111, -0.45470555555555553, -0.03763433333333334, -0.23824755555555555, 0.22576733333333332, -0.081817, 0.16799266666666662, -0.19468892222222225, 0.13659666666666667, 0.4050569777777778, -0.1364191111111111, -0.13753902222222222, -0.02407033333333331, 0.04287244444444445, -0.04981133333333333, -0.045210222222222...   \n",
       "1  [[0.13117222777777782, 0.23144138888888888, -0.1287111138888889, 0.03437691666666667, 0.3027779444444445, 0.07520951666666667, -0.6298203055555556, -0.08664849166666666, -0.3425940619444445, -0.012952511944444436, -0.1141852777777778, -0.025810388888888876, -0.4855429722222224, 0.1112621111111111, 0.5092534027777776, -0.02984646944444445, -0.11443600277777777, -0.14332183333333331, -0.6538476111111109, -0.35192540833333336, 0.10745547222222222, 0.17602088888888887, 0.22546630555555552, -0.0889035277777778, 0.05233747222222219, -1.2619665555555555, -0.1435575277777778, 0.11123408333333333, 0.14149594444444447, -0.2372131666666667, 2.9376252777777783, 0.22560636111111101, -0.21385508333333336, -0.17423727777777778, 0.09607059805555557, -0.09451566944444441, 0.22029619444444445, 0.1726943611111112, -0.08289519916666667, -0.16808319444444444, -0.19212292499999997, 0.21347952777777782, -0.24229428611111117, -0.15565537055555553, -0.09739619444444446, 0.11208230555555554, 0.0146069944444...   \n",
       "2  [[0.25108350000000007, 0.2086736882352942, -0.21354023823529417, -0.030210273529411767, 0.27355308823529406, -0.07725427352941178, -0.5745962970588235, -0.1121810882352941, -0.1504966311764706, -0.23276979411764712, -0.1971740882352941, -0.027727676470588238, -0.2163196764705882, 0.03301882941176471, 0.40245752941176466, 0.13475149411764706, -0.04200514705882354, -0.14210700294117648, -0.22599458823529406, -0.20132082647058824, 0.17035154411764705, 0.3184201764705883, 0.10765961764705884, -0.13887385294117643, 0.04840141176470591, -1.5431582617647057, -0.029888058823529413, 0.08670799999999998, -0.1677002382352941, -0.045746550000000004, 2.717856764705882, 0.23960423529411762, -0.49072120588235296, -0.2563680294117647, -0.005924201176470589, -0.1760847117647059, 0.01741175294117649, 0.11170907352941176, -0.13541817647058824, -0.15134146176470584, -0.3134057352941175, 0.2685513823529412, 0.00084387058823527, -0.09726841470588235, -0.04315288235294117, 0.2319733235294118, -0.36487027...   \n",
       "\n",
       "                                                                                                                                                                                                                                                                                                                                                                                                                                                                                                                                                                                                                                                                                                                                                                                                                                                                                                                                                                                                                                 SimMatrix  \\\n",
       "0  [[1.0, 0.9058512560063415, 0.8843496707451783, 0.9044396825560004, 0.8988321718054801, 0.9118362546085397, 0.8798485791769182, 0.8561647610416898, 0.8922867978408691, 0.9195244345062042, 0.8647582822942053, 0.9019217999865002, 0.8821819138830912, 0.8883468214736762, 0.903446173655496, 0.8610538948619471, 0.8323685255419793, 0.9184692075335579, 0.8646186964747499, 0.8617520812761341, 0.9035784175362052, 0.8879786632272613, 0.8790919472899136, 0.8923130844685031, 0.8917879919187983, 0.9043410005664844, 0.8909261284632819, 0.9198803445992786, 0.8127941370621818, 0.8798526056096261, 0.9211790143215365, 0.8475033768570281, 0.8814882556708566, 0.8917585223710943, 0.8433023611042434, 0.8806532905083848, 0.8977804624817841, 0.8800492567350834, 0.7897873521349946, 0.887256249481563, 0.8080899515979707, 0.8957596762721823, 0.8834975240559813, 0.8780143242478503, 0.8822785256674515, 0.8987170221126601, 0.8986077043151316, 0.8836841812334515, 0.8726649866490094, 0.9159641108169724, 0.883031481...   \n",
       "1  [[1.0, 0.9324861628384136, 0.9367111456925217, 0.9560263240583248, 0.9627867475644003, 0.7704801355546355, 0.9232394276039456, 0.9469488319611394, 0.951491496779297, 0.9361467603755695, 0.9729655326051657, 0.7258959327949656], [0.9324861628384136, 1.0000000000000002, 0.8859314965661098, 0.8940249196041686, 0.9328725998989945, 0.7945237574095703, 0.9129250979945881, 0.9046181536697357, 0.9030047092175392, 0.9139092787605767, 0.9222581869331343, 0.696386182459005], [0.9367111456925217, 0.8859314965661098, 0.9999999999999999, 0.8650322883665879, 0.8749387511008127, 0.7190649850284718, 0.8847273608954046, 0.8618984535716523, 0.9270679209325314, 0.880533539855204, 0.967397963108455, 0.6983965861039025], [0.9560263240583248, 0.8940249196041686, 0.8650322883665879, 1.0000000000000002, 0.9650748085661364, 0.7679650590157906, 0.9296240937030553, 0.9387671521294693, 0.9274091910325434, 0.8964219662735321, 0.9380011000126257, 0.7084261961712505], [0.9627867475644003, 0.9328725998989945, 0.874...   \n",
       "2  [[1.0, 0.955739770211566, 0.9629850149447645, 0.9638642277946083, 0.9380635859165597, 0.8977410452482699, 0.9467138992483186, 0.903325572554888, 0.96261213444534, 0.9687800511055771, 0.9637733612760662, 0.9727745888504487, 0.9072813446621767], [0.955739770211566, 0.9999999999999999, 0.9620788955306453, 0.9318148641877576, 0.9000672045128574, 0.9267475949002182, 0.9395187840525789, 0.876728342170851, 0.9603666334091149, 0.9510292936958297, 0.932631204397332, 0.9589371888672684, 0.9652074345003053], [0.9629850149447645, 0.9620788955306453, 1.0, 0.9416231535541782, 0.9329893730723908, 0.8713766710257796, 0.9332257239980432, 0.8735171692050304, 0.9492183396755821, 0.9564597800725022, 0.9590264460502413, 0.9597783175528102, 0.9163775506893085], [0.9638642277946083, 0.9318148641877576, 0.9416231535541782, 0.9999999999999998, 0.97702892265442, 0.8975807144334593, 0.9124513435132035, 0.9423711503081325, 0.9339508896588817, 0.9479435083572926, 0.9550738204136382, 0.9471889590167926, 0.87875...   \n",
       "\n",
       "                                                                                                                                                                                                                                                                                                                                                                                                                                                                                                                                                                                                                                                                                                                                                                                                                                                                                                                                                                                                                                     Graph  \n",
       "0  {0: 0.007499965113827218, 1: 0.007848991992369471, 2: 0.007710265068631085, 3: 0.007977821482387112, 4: 0.008022643292656683, 5: 0.00795266172621474, 6: 0.008003430026561547, 7: 0.007948321463932432, 8: 0.007871581056490698, 9: 0.007987559960965666, 10: 0.00791213755644311, 11: 0.007859987191032123, 12: 0.007894791370174547, 13: 0.008016131587551448, 14: 0.007836060687739429, 15: 0.007300579278734792, 16: 0.007799914119980353, 17: 0.007886179781586223, 18: 0.007779755450413676, 19: 0.00799158292136865, 20: 0.007876177090543255, 21: 0.007942884745650948, 22: 0.007857768059837417, 23: 0.007645524880383185, 24: 0.007673102288743785, 25: 0.008001469879077159, 26: 0.007824014713848193, 27: 0.007915146545753834, 28: 0.007281895101543402, 29: 0.007850624108504654, 30: 0.007757793202678299, 31: 0.007633290117866422, 32: 0.007731611342850765, 33: 0.007862038948528924, 34: 0.007783694824896865, 35: 0.00799918256445175, 36: 0.008071926945471495, 37: 0.007833985186125337, 38: 0.007001673997707...  \n",
       "1                                                                                                                                                                                                                                                                                                                                                                                                                                                                                                                                                                                                                                                                                                                                           {0: 0.08668890462392848, 1: 0.08452519268250049, 2: 0.08323259845730821, 3: 0.0851511756483628, 4: 0.08619286411534786, 5: 0.07584561331989628, 6: 0.0844349826012531, 7: 0.0848228713794331, 8: 0.08633855412994083, 9: 0.0854562081171707, 10: 0.08605017300527504, 11: 0.07126086191958277}  \n",
       "2                                                                                                                                                                                                                                                                                                                                                                                                                                                                                                                                                                                                                                                                                                                 {0: 0.0782744969936561, 1: 0.07782899088339185, 2: 0.07759796055808424, 3: 0.07766037923532997, 4: 0.0763285302623519, 5: 0.07420541915589157, 6: 0.07705300696145134, 7: 0.07503686706050061, 8: 0.0774541243848467, 9: 0.07767997205331607, 10: 0.07724226716553567, 11: 0.07797974932025051, 12: 0.07565823596539346}  "
      ]
     },
     "execution_count": 284,
     "metadata": {},
     "output_type": "execute_result"
    }
   ],
   "source": [
    "articles.head(3)"
   ]
  },
  {
   "cell_type": "markdown",
   "metadata": {},
   "source": [
    "## Ranked Sentences"
   ]
  },
  {
   "cell_type": "code",
   "execution_count": 285,
   "metadata": {},
   "outputs": [],
   "source": [
    "def get_ranked_sentences(sentences, scores, n=3):\n",
    "    top_scores = sorted(((scores[i],s) \n",
    "                         for i,s in enumerate(sentences)), \n",
    "                                reverse=True)\n",
    "    top_n_sentences = [sentence \n",
    "                        for score,sentence in top_scores[:n]]\n",
    "    return \" \".join(top_n_sentences)\n",
    "\n",
    "articles['Summary'] = articles.apply(lambda d: \n",
    "                                     get_ranked_sentences(d.SentencesInArticle, \n",
    "                                                          d.Graph), axis=1)"
   ]
  },
  {
   "cell_type": "markdown",
   "metadata": {},
   "source": [
    "## Summary"
   ]
  },
  {
   "cell_type": "code",
   "execution_count": 286,
   "metadata": {},
   "outputs": [
    {
     "data": {
      "text/plain": [
       "\"“To say there was an arrangement of financial exchange and sexual favors would be completely out of whack,” he said, adding, however, that “if you're looking after a whole bunch of good-looking ladies who are running around Manhattan, you're going to be running into trouble here and there sometimes.”)  But at 24, Kramer found herself employed by the modeling world's gold standard, an agency that represented Cindy Crawford and Linda Evangelista, where she didn't expect to encounter abusive men. I think we would try not to work with a lot of those photographers if we heard problems.” Trudi Tapscott, who worked as an agent and director at Elite from the early '80s until the early '90s, reiterated Gotlib's point, explaining that she told young women about potentially creepy photographers ahead of time. But then I thought I was helping them survive, which sounds so stupid now.” As for alleged in-house predators such as Marie, Gotlib said, “I knew nothing about anything that might have been going on there.”  Throughout her career Kramer worked at four other agencies ― the now-defunct Name Management and Company Management, as well as Next Management and the Marilyn Model Agency ― where she said she also regularly witnessed young girls being preyed on at dinner parties and clubs.\""
      ]
     },
     "execution_count": 286,
     "metadata": {},
     "output_type": "execute_result"
    }
   ],
   "source": [
    "articles.loc[0].Summary"
   ]
  },
  {
   "cell_type": "code",
   "execution_count": 287,
   "metadata": {},
   "outputs": [
    {
     "data": {
      "text/plain": [
       "\"This week I talked with actor Jeff Hiller about the hit Off Broadway play Bright Colors And Bold Patterns that he'll be joining on January 17th with a new opening night scheduled for February 4th. LISTEN:   When asked how he sees our LGBTQ community moving forward in this Trump administration Hiller stated: Jeff Hiller is a regular performer at the UCB Theatre in both New York City and Los Angeles. However, the night before becomes a drunken, drug-fueled riot because their friend Gerry arrives furious that their invitation says: “Please refrain from wearing bright colors or bold patterns.” The play is produced by Zach Laks in association with Riki Kane Larimer and features set design by Dara Wishingrad.\""
      ]
     },
     "execution_count": 287,
     "metadata": {},
     "output_type": "execute_result"
    }
   ],
   "source": [
    "articles.loc[1].Summary"
   ]
  },
  {
   "cell_type": "code",
   "execution_count": null,
   "metadata": {},
   "outputs": [],
   "source": []
  }
 ],
 "metadata": {
  "kernelspec": {
   "display_name": "Python 3",
   "language": "python",
   "name": "python3"
  },
  "language_info": {
   "codemirror_mode": {
    "name": "ipython",
    "version": 3
   },
   "file_extension": ".py",
   "mimetype": "text/x-python",
   "name": "python",
   "nbconvert_exporter": "python",
   "pygments_lexer": "ipython3",
   "version": "3.10.10"
  }
 },
 "nbformat": 4,
 "nbformat_minor": 2
}
